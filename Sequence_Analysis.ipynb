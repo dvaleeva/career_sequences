{
 "cells": [
  {
   "cell_type": "markdown",
   "metadata": {},
   "source": [
    "# Paper on Career Sequences of Transnational Corporate Elites"
   ]
  },
  {
   "cell_type": "markdown",
   "metadata": {},
   "source": [
    "Extract data from Orbis dataset: www.bvdinfo.com\n",
    "\n",
    "Snapshot December 2017\n",
    "\n",
    "* BvD: firm ID\n",
    "* UCI: individual ID\n",
    "* type of the position that a person obtains\n",
    "* important positions\n",
    "* current positions\n",
    "* appointment date of a person\n",
    "* operating revenue of a firm (frims with > 100,000,000 US$)"
   ]
  },
  {
   "cell_type": "markdown",
   "metadata": {},
   "source": [
    "Data preparation steps:\n",
    "* Take people with one of their current position: board of directors, executive board, supervisory board\n",
    "* With known appointment dates\n",
    "* Their careers during 2000-2017\n",
    "* Extract transnational individuals (work in more than 1 country)\n",
    "* Assign regions to countries using 'countrycode' package in R"
   ]
  },
  {
   "cell_type": "markdown",
   "metadata": {},
   "source": [
    "## R"
   ]
  },
  {
   "cell_type": "code",
   "execution_count": 23,
   "metadata": {},
   "outputs": [
    {
     "data": {
      "text/plain": [
       "[1] ‘3.4.1’"
      ]
     },
     "metadata": {},
     "output_type": "display_data"
    }
   ],
   "source": [
    "getRversion()"
   ]
  },
  {
   "cell_type": "code",
   "execution_count": null,
   "metadata": {
    "collapsed": true
   },
   "outputs": [],
   "source": [
    "library(TraMineR)\n",
    "library(colorspace)\n",
    "library(cluster)\n",
    "library(dplyr)\n",
    "library(ggplot2)\n",
    "library(psych)\n",
    "library(WeightedCluster)"
   ]
  },
  {
   "cell_type": "markdown",
   "metadata": {},
   "source": [
    "## Reading data for sequence analysis"
   ]
  },
  {
   "cell_type": "code",
   "execution_count": 30,
   "metadata": {},
   "outputs": [
    {
     "data": {
      "text/html": [
       "8201"
      ],
      "text/latex": [
       "8201"
      ],
      "text/markdown": [
       "8201"
      ],
      "text/plain": [
       "[1] 8201"
      ]
     },
     "metadata": {},
     "output_type": "display_data"
    }
   ],
   "source": [
    "setwd(...)\n",
    "df <- read.csv('data.csv', header = TRUE, sep = \",\", na.strings=c(\"\",\"NA\"))\n",
    "nrow(df)"
   ]
  },
  {
   "cell_type": "code",
   "execution_count": 31,
   "metadata": {},
   "outputs": [
    {
     "data": {
      "text/html": [
       "<table>\n",
       "<thead><tr><th scope=col>X</th><th scope=col>positionUCI</th><th scope=col>X0</th><th scope=col>X1</th><th scope=col>X2</th><th scope=col>X3</th><th scope=col>X4</th><th scope=col>X5</th><th scope=col>X6</th><th scope=col>X7</th><th scope=col>X8</th><th scope=col>X9</th></tr></thead>\n",
       "<tbody>\n",
       "\t<tr><td>0         </td><td>P000004754</td><td>Europe S  </td><td>Europe E  </td><td>NA        </td><td>NA        </td><td>NA        </td><td>NA        </td><td>NA        </td><td>NA        </td><td>NA        </td><td>NA        </td></tr>\n",
       "\t<tr><td>1         </td><td>P000004818</td><td>Europe S  </td><td>Europe N  </td><td>NA        </td><td>NA        </td><td>NA        </td><td>NA        </td><td>NA        </td><td>NA        </td><td>NA        </td><td>NA        </td></tr>\n",
       "\t<tr><td>2         </td><td>P000025348</td><td>Europe S  </td><td>Europe W  </td><td>NA        </td><td>NA        </td><td>NA        </td><td>NA        </td><td>NA        </td><td>NA        </td><td>NA        </td><td>NA        </td></tr>\n",
       "\t<tr><td>3         </td><td>P000044184</td><td>Europe W  </td><td>Europe S  </td><td>NA        </td><td>NA        </td><td>NA        </td><td>NA        </td><td>NA        </td><td>NA        </td><td>NA        </td><td>NA        </td></tr>\n",
       "\t<tr><td>4         </td><td>P000044407</td><td>Europe W  </td><td>Europe W  </td><td>NA        </td><td>NA        </td><td>NA        </td><td>NA        </td><td>NA        </td><td>NA        </td><td>NA        </td><td>NA        </td></tr>\n",
       "\t<tr><td>5         </td><td>P000063770</td><td>Europe E  </td><td>Europe W  </td><td>NA        </td><td>NA        </td><td>NA        </td><td>NA        </td><td>NA        </td><td>NA        </td><td>NA        </td><td>NA        </td></tr>\n",
       "</tbody>\n",
       "</table>\n"
      ],
      "text/latex": [
       "\\begin{tabular}{r|llllllllllll}\n",
       " X & positionUCI & X0 & X1 & X2 & X3 & X4 & X5 & X6 & X7 & X8 & X9\\\\\n",
       "\\hline\n",
       "\t 0          & P000004754 & Europe S   & Europe E   & NA         & NA         & NA         & NA         & NA         & NA         & NA         & NA        \\\\\n",
       "\t 1          & P000004818 & Europe S   & Europe N   & NA         & NA         & NA         & NA         & NA         & NA         & NA         & NA        \\\\\n",
       "\t 2          & P000025348 & Europe S   & Europe W   & NA         & NA         & NA         & NA         & NA         & NA         & NA         & NA        \\\\\n",
       "\t 3          & P000044184 & Europe W   & Europe S   & NA         & NA         & NA         & NA         & NA         & NA         & NA         & NA        \\\\\n",
       "\t 4          & P000044407 & Europe W   & Europe W   & NA         & NA         & NA         & NA         & NA         & NA         & NA         & NA        \\\\\n",
       "\t 5          & P000063770 & Europe E   & Europe W   & NA         & NA         & NA         & NA         & NA         & NA         & NA         & NA        \\\\\n",
       "\\end{tabular}\n"
      ],
      "text/markdown": [
       "\n",
       "X | positionUCI | X0 | X1 | X2 | X3 | X4 | X5 | X6 | X7 | X8 | X9 | \n",
       "|---|---|---|---|---|---|\n",
       "| 0          | P000004754 | Europe S   | Europe E   | NA         | NA         | NA         | NA         | NA         | NA         | NA         | NA         | \n",
       "| 1          | P000004818 | Europe S   | Europe N   | NA         | NA         | NA         | NA         | NA         | NA         | NA         | NA         | \n",
       "| 2          | P000025348 | Europe S   | Europe W   | NA         | NA         | NA         | NA         | NA         | NA         | NA         | NA         | \n",
       "| 3          | P000044184 | Europe W   | Europe S   | NA         | NA         | NA         | NA         | NA         | NA         | NA         | NA         | \n",
       "| 4          | P000044407 | Europe W   | Europe W   | NA         | NA         | NA         | NA         | NA         | NA         | NA         | NA         | \n",
       "| 5          | P000063770 | Europe E   | Europe W   | NA         | NA         | NA         | NA         | NA         | NA         | NA         | NA         | \n",
       "\n",
       "\n"
      ],
      "text/plain": [
       "  X positionUCI X0       X1       X2 X3 X4 X5 X6 X7 X8 X9\n",
       "1 0 P000004754  Europe S Europe E NA NA NA NA NA NA NA NA\n",
       "2 1 P000004818  Europe S Europe N NA NA NA NA NA NA NA NA\n",
       "3 2 P000025348  Europe S Europe W NA NA NA NA NA NA NA NA\n",
       "4 3 P000044184  Europe W Europe S NA NA NA NA NA NA NA NA\n",
       "5 4 P000044407  Europe W Europe W NA NA NA NA NA NA NA NA\n",
       "6 5 P000063770  Europe E Europe W NA NA NA NA NA NA NA NA"
      ]
     },
     "metadata": {},
     "output_type": "display_data"
    }
   ],
   "source": [
    "head(df)"
   ]
  },
  {
   "cell_type": "markdown",
   "metadata": {},
   "source": [
    "## Assign color palette for sequence states"
   ]
  },
  {
   "cell_type": "code",
   "execution_count": 20,
   "metadata": {},
   "outputs": [
    {
     "data": {
      "text/html": [
       "<ol class=list-inline>\n",
       "\t<li>'#c51b8a'</li>\n",
       "\t<li>'#fbb4b9'</li>\n",
       "\t<li>'#7a0177'</li>\n",
       "\t<li>'#6baed6'</li>\n",
       "\t<li>'#2171b5'</li>\n",
       "\t<li>'#bdd7e7'</li>\n",
       "\t<li>'#fd8d3c'</li>\n",
       "\t<li>'#e6550d'</li>\n",
       "\t<li>'#fdbe85'</li>\n",
       "\t<li>'#756bb1'</li>\n",
       "\t<li>'#eff3ff'</li>\n",
       "\t<li>'#74c476'</li>\n",
       "\t<li>'#edf8e9'</li>\n",
       "\t<li>'#238b45'</li>\n",
       "\t<li>'#bae4b3'</li>\n",
       "\t<li>'#bcbddc'</li>\n",
       "</ol>\n"
      ],
      "text/latex": [
       "\\begin{enumerate*}\n",
       "\\item '\\#c51b8a'\n",
       "\\item '\\#fbb4b9'\n",
       "\\item '\\#7a0177'\n",
       "\\item '\\#6baed6'\n",
       "\\item '\\#2171b5'\n",
       "\\item '\\#bdd7e7'\n",
       "\\item '\\#fd8d3c'\n",
       "\\item '\\#e6550d'\n",
       "\\item '\\#fdbe85'\n",
       "\\item '\\#756bb1'\n",
       "\\item '\\#eff3ff'\n",
       "\\item '\\#74c476'\n",
       "\\item '\\#edf8e9'\n",
       "\\item '\\#238b45'\n",
       "\\item '\\#bae4b3'\n",
       "\\item '\\#bcbddc'\n",
       "\\end{enumerate*}\n"
      ],
      "text/markdown": [
       "1. '#c51b8a'\n",
       "2. '#fbb4b9'\n",
       "3. '#7a0177'\n",
       "4. '#6baed6'\n",
       "5. '#2171b5'\n",
       "6. '#bdd7e7'\n",
       "7. '#fd8d3c'\n",
       "8. '#e6550d'\n",
       "9. '#fdbe85'\n",
       "10. '#756bb1'\n",
       "11. '#eff3ff'\n",
       "12. '#74c476'\n",
       "13. '#edf8e9'\n",
       "14. '#238b45'\n",
       "15. '#bae4b3'\n",
       "16. '#bcbddc'\n",
       "\n",
       "\n"
      ],
      "text/plain": [
       " [1] \"#c51b8a\" \"#fbb4b9\" \"#7a0177\" \"#6baed6\" \"#2171b5\" \"#bdd7e7\" \"#fd8d3c\"\n",
       " [8] \"#e6550d\" \"#fdbe85\" \"#756bb1\" \"#eff3ff\" \"#74c476\" \"#edf8e9\" \"#238b45\"\n",
       "[15] \"#bae4b3\" \"#bcbddc\""
      ]
     },
     "metadata": {},
     "output_type": "display_data"
    }
   ],
   "source": [
    "# Colors are color-blind friendly, based on this palette:\n",
    "# http://colorbrewer2.org/#type=sequential&scheme=Greens&n=4\n",
    "\n",
    "# Melanesia + Micronesia => merged into one state\n",
    "# N Africa + W Africa => merged into one state\n",
    "# C Asia + W Asia => merged into one state\n",
    "\n",
    "## Europe\n",
    "# green\n",
    "EuropeN <- '#edf8e9'\n",
    "EuropeW <- '#bae4b3'\n",
    "EuropeE <- '#74c476'\n",
    "EuropeS <- '#238b45'\n",
    "\n",
    "## America\n",
    "# blue\n",
    "AmericaN <- '#2171b5'\n",
    "AmericaS <- '#bdd7e7'\n",
    "AmericaC <- '#6baed6'\n",
    "Caribbean <- '#eff3ff'\n",
    "\n",
    "## Asia\n",
    "# orange\n",
    "AsiaCW <- '#fdbe85'\n",
    "AsiaE <- '#fd8d3c'\n",
    "AsiaSE <- '#e6550d'\n",
    "AsiaS  <- '#a63603'\n",
    "\n",
    "## Africa\n",
    "# pink\n",
    "AfricaNW  <- '#fbb4b9'\n",
    "AfricaE <- '#c51b8a'\n",
    "AfricaS <- '#7a0177'\n",
    "\n",
    "## Australia\n",
    "# violet\n",
    "MelaMicronesia <- '#bcbddc'\n",
    "AustrNewZealand <-'#756bb1'\n",
    "\n",
    "# Palette should be in alphabetical order\n",
    "palette = c(AfricaE,AfricaNW,AfricaS,\n",
    "            AmericaC,AmericaN,AmericaS,\n",
    "            AsiaCW, AsiaE, AsiaS, AsiaSE,\n",
    "            AustrNewZealand, Caribbean,\n",
    "            EuropeE,EuropeN,EuropeS, EuropeW,\n",
    "            MelaMicronesia)\n",
    "\n",
    "palette"
   ]
  },
  {
   "cell_type": "code",
   "execution_count": null,
   "metadata": {
    "collapsed": true
   },
   "outputs": [],
   "source": [
    "# Assign index to the dataset\n",
    "rownames(df) <- df$positionUCI\n",
    "\n",
    "# Delete unnecessary columns\n",
    "df$positionUCI <- NULL\n",
    "df$X <- NULL"
   ]
  },
  {
   "cell_type": "markdown",
   "metadata": {},
   "source": [
    "## Sequencing"
   ]
  },
  {
   "cell_type": "code",
   "execution_count": null,
   "metadata": {
    "collapsed": true
   },
   "outputs": [],
   "source": [
    "# Create a sequence dataset\n",
    "sts.seq1 <- seqdef(df, cpal=palette, right='DEL', nr=\"*\")\n",
    "\n",
    "# Assign a cost matrix based on observed transition rates\n",
    "costmatrix1 <- seqsubm(sts.seq1, \n",
    "                      method=\"TRATE\", \n",
    "                      with.missing=FALSE,\n",
    "                     time.varying=FALSE,\n",
    "                     cval = 2,\n",
    "                     miss.cost=1)\n",
    "\n",
    "# Create a dissimilarity matrix, using Optimal Matching algorithm \n",
    "diss1 <- seqdist(sts.seq1, method = \"OM\",\n",
    "                 indel=1,\n",
    "                   with.missing = FALSE,\n",
    "                    full.matrix =FALSE,\n",
    "                sm = costmatrix1,\n",
    "               weighted=FALSE)"
   ]
  },
  {
   "cell_type": "markdown",
   "metadata": {},
   "source": [
    "## Clustering sequences"
   ]
  },
  {
   "cell_type": "code",
   "execution_count": null,
   "metadata": {
    "collapsed": true
   },
   "outputs": [],
   "source": [
    "# Use Ward clustering algorithm\n",
    "clward1 <- hclust(diss1, method=\"ward.D\")"
   ]
  },
  {
   "cell_type": "code",
   "execution_count": null,
   "metadata": {
    "collapsed": true
   },
   "outputs": [],
   "source": [
    "# Show statistics for 35 clusters\n",
    "cluQual_ward35 <- as.clustrange(clward1, diss1, ncluster = 35)\n",
    "cluQual_ward35$stats\n",
    "\n",
    "# ASW (siluette)\n",
    "# 0.71 – 1.00 excellent split\n",
    "# 0.51 – 0.70 reasonable structure has been found\n",
    "# 0.26 – 0.50 weak structure, could be artificial\n",
    "\n",
    "# A high ASW value means that the clusters are homogeneous (all observations are close to cluster center)\n",
    "# and that they are well separated"
   ]
  },
  {
   "cell_type": "code",
   "execution_count": null,
   "metadata": {
    "collapsed": true
   },
   "outputs": [],
   "source": [
    "# Show the best clustering solutions\n",
    "summary(cluQual_ward35, max.rank = 2)"
   ]
  },
  {
   "cell_type": "markdown",
   "metadata": {},
   "source": [
    "## Visualization of clusters"
   ]
  },
  {
   "cell_type": "code",
   "execution_count": null,
   "metadata": {
    "collapsed": true
   },
   "outputs": [],
   "source": [
    "## Visualize all 35 clusters together\n",
    "\n",
    "# Cutting cluster by the number of the determined clusters (k)\n",
    "clTree1 <- cutree(clward1, k = 35) \n",
    "\n",
    "# Turning cut points into a factor variable and labeling them\n",
    "clward35 <- factor(clTree1, labels = paste(\"Trajectory\", 1:35))\n",
    "\n",
    "# Save as .png\n",
    "png(filename = \"seqdplot35.png\", width = 3200, height = 2200, units = \"px\", pointsize=30)\n",
    "seqplot(sts.seq1, group = clward35, type=\"I\", sortv = \"from.start\", with.legend = 'auto',border = NA,\n",
    "        use.layout=TRUE, cols=6)\n",
    "dev.off()\n",
    "\n",
    "\n",
    "## Visualize each cluster separately\n",
    "\n",
    "png(filename = \"Cluster_1.png\", width = 650, height = 500, units = \"px\", pointsize=18)\n",
    "seqplot(sts.seq1[clward35==\"Trajectory 1\",], type=\"I\", sortv = \"from.start\",\n",
    "        with.legend = 'right',border = NA, use.layout=TRUE)\n",
    "dev.off()"
   ]
  }
 ],
 "metadata": {
  "kernelspec": {
   "display_name": "R",
   "language": "R",
   "name": "ir"
  },
  "language_info": {
   "codemirror_mode": "r",
   "file_extension": ".r",
   "mimetype": "text/x-r-source",
   "name": "R",
   "pygments_lexer": "r",
   "version": "3.4.1"
  }
 },
 "nbformat": 4,
 "nbformat_minor": 2
}
